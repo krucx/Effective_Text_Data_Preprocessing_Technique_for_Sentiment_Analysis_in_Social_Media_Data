{
 "cells": [
  {
   "cell_type": "markdown",
   "metadata": {},
   "source": [
    "# Importing Libraies"
   ]
  },
  {
   "cell_type": "code",
   "execution_count": 1,
   "metadata": {
    "id": "QzHrPtBrS9KQ"
   },
   "outputs": [],
   "source": [
    "import pandas as pd\n",
    "import numpy as np\n",
    "import nltk\n",
    "from nltk.stem.wordnet import WordNetLemmatizer\n",
    "from nltk.corpus import stopwords\n",
    "import re\n",
    "from nltk.tokenize import sent_tokenize, word_tokenize\n",
    "from textblob import TextBlob\n",
    "from nltk.stem import PorterStemmer\n",
    "import time\n",
    "import matplotlib.pyplot as plt\n",
    "import random\n",
    "from sklearn.feature_extraction.text import TfidfVectorizer\n",
    "from sklearn.naive_bayes import MultinomialNB\n",
    "from sklearn.pipeline import make_pipeline\n",
    "from sklearn.metrics import confusion_matrix, ConfusionMatrixDisplay\n",
    "from sklearn.svm import SVC"
   ]
  },
  {
   "cell_type": "code",
   "execution_count": 2,
   "metadata": {
    "colab": {
     "base_uri": "https://localhost:8080/"
    },
    "id": "MuKZjSPomLJS",
    "outputId": "227c2186-4f3a-43d1-af57-ae5670cc0e44"
   },
   "outputs": [
    {
     "name": "stderr",
     "output_type": "stream",
     "text": [
      "[nltk_data] Downloading package punkt to\n",
      "[nltk_data]     C:\\Users\\kritarth\\AppData\\Roaming\\nltk_data...\n",
      "[nltk_data]   Package punkt is already up-to-date!\n",
      "[nltk_data] Downloading package stopwords to\n",
      "[nltk_data]     C:\\Users\\kritarth\\AppData\\Roaming\\nltk_data...\n",
      "[nltk_data]   Package stopwords is already up-to-date!\n",
      "[nltk_data] Downloading package wordnet to\n",
      "[nltk_data]     C:\\Users\\kritarth\\AppData\\Roaming\\nltk_data...\n",
      "[nltk_data]   Package wordnet is already up-to-date!\n"
     ]
    },
    {
     "data": {
      "text/plain": [
       "True"
      ]
     },
     "execution_count": 2,
     "metadata": {},
     "output_type": "execute_result"
    }
   ],
   "source": [
    "nltk.download('punkt')\n",
    "nltk.download('stopwords')\n",
    "nltk.download('wordnet')"
   ]
  },
  {
   "cell_type": "markdown",
   "metadata": {},
   "source": [
    "# Data Exploration\n",
    "## dataset link : https://data.world/crowdflower/apple-twitter-sentiment"
   ]
  },
  {
   "cell_type": "code",
   "execution_count": 3,
   "metadata": {
    "colab": {
     "base_uri": "https://localhost:8080/",
     "height": 204
    },
    "id": "CdaoavwRTjka",
    "outputId": "3973084a-8b6f-4ade-9d99-8973ad64bafd"
   },
   "outputs": [
    {
     "data": {
      "text/html": [
       "<div>\n",
       "<style scoped>\n",
       "    .dataframe tbody tr th:only-of-type {\n",
       "        vertical-align: middle;\n",
       "    }\n",
       "\n",
       "    .dataframe tbody tr th {\n",
       "        vertical-align: top;\n",
       "    }\n",
       "\n",
       "    .dataframe thead th {\n",
       "        text-align: right;\n",
       "    }\n",
       "</style>\n",
       "<table border=\"1\" class=\"dataframe\">\n",
       "  <thead>\n",
       "    <tr style=\"text-align: right;\">\n",
       "      <th></th>\n",
       "      <th>sentiment</th>\n",
       "      <th>text</th>\n",
       "    </tr>\n",
       "  </thead>\n",
       "  <tbody>\n",
       "    <tr>\n",
       "      <th>1943</th>\n",
       "      <td>3</td>\n",
       "      <td>RT @OneRepublic: Studio at 45,000 ft.  One out...</td>\n",
       "    </tr>\n",
       "    <tr>\n",
       "      <th>1978</th>\n",
       "      <td>3</td>\n",
       "      <td>#Apple planning to support 500 #Apple reseller...</td>\n",
       "    </tr>\n",
       "    <tr>\n",
       "      <th>1318</th>\n",
       "      <td>3</td>\n",
       "      <td>Is Apple The Most Important Stock On Earth?  h...</td>\n",
       "    </tr>\n",
       "    <tr>\n",
       "      <th>398</th>\n",
       "      <td>3</td>\n",
       "      <td>iPad Mini First Time Startup!: http://t.co/vGH...</td>\n",
       "    </tr>\n",
       "    <tr>\n",
       "      <th>741</th>\n",
       "      <td>3</td>\n",
       "      <td>RT @JPDesloges: GTAT Creditors Want to Questio...</td>\n",
       "    </tr>\n",
       "  </tbody>\n",
       "</table>\n",
       "</div>"
      ],
      "text/plain": [
       "     sentiment                                               text\n",
       "1943         3  RT @OneRepublic: Studio at 45,000 ft.  One out...\n",
       "1978         3  #Apple planning to support 500 #Apple reseller...\n",
       "1318         3  Is Apple The Most Important Stock On Earth?  h...\n",
       "398          3  iPad Mini First Time Startup!: http://t.co/vGH...\n",
       "741          3  RT @JPDesloges: GTAT Creditors Want to Questio..."
      ]
     },
     "execution_count": 3,
     "metadata": {},
     "output_type": "execute_result"
    }
   ],
   "source": [
    "df = pd.read_csv('apple_twitter_sentiment_dfe.csv',usecols=['sentiment','text'])\n",
    "df.sample(5)"
   ]
  },
  {
   "cell_type": "code",
   "execution_count": 4,
   "metadata": {
    "colab": {
     "base_uri": "https://localhost:8080/",
     "height": 359
    },
    "id": "nPTd5mUZVyll",
    "outputId": "d5415336-733e-49b1-98fa-977189fe7366"
   },
   "outputs": [
    {
     "data": {
      "text/html": [
       "<div>\n",
       "<style scoped>\n",
       "    .dataframe tbody tr th:only-of-type {\n",
       "        vertical-align: middle;\n",
       "    }\n",
       "\n",
       "    .dataframe tbody tr th {\n",
       "        vertical-align: top;\n",
       "    }\n",
       "\n",
       "    .dataframe thead th {\n",
       "        text-align: right;\n",
       "    }\n",
       "</style>\n",
       "<table border=\"1\" class=\"dataframe\">\n",
       "  <thead>\n",
       "    <tr style=\"text-align: right;\">\n",
       "      <th></th>\n",
       "      <th>sentiment</th>\n",
       "      <th>text</th>\n",
       "    </tr>\n",
       "  </thead>\n",
       "  <tbody>\n",
       "    <tr>\n",
       "      <th>2620</th>\n",
       "      <td>0</td>\n",
       "      <td>@L2DAWASHINGTON @Apple I hope them faggots get...</td>\n",
       "    </tr>\n",
       "    <tr>\n",
       "      <th>2909</th>\n",
       "      <td>1</td>\n",
       "      <td>RT @yungjoseg: Poor dudes out here gettin slan...</td>\n",
       "    </tr>\n",
       "    <tr>\n",
       "      <th>3229</th>\n",
       "      <td>0</td>\n",
       "      <td>Good grief, @Apple, could you all have a more ...</td>\n",
       "    </tr>\n",
       "    <tr>\n",
       "      <th>3613</th>\n",
       "      <td>2</td>\n",
       "      <td>#apple earns more #profit in on quarter than #...</td>\n",
       "    </tr>\n",
       "    <tr>\n",
       "      <th>1211</th>\n",
       "      <td>2</td>\n",
       "      <td>#Apple Is Now Worth More Than The Entire Russi...</td>\n",
       "    </tr>\n",
       "    <tr>\n",
       "      <th>3406</th>\n",
       "      <td>1</td>\n",
       "      <td>RT @TeamCavuto: Protesters stage #DieIn protes...</td>\n",
       "    </tr>\n",
       "    <tr>\n",
       "      <th>1132</th>\n",
       "      <td>1</td>\n",
       "      <td>@Apple why isn't there an otter emoji</td>\n",
       "    </tr>\n",
       "    <tr>\n",
       "      <th>2860</th>\n",
       "      <td>1</td>\n",
       "      <td>RT @FrankThePilot: can we get a touch screen m...</td>\n",
       "    </tr>\n",
       "    <tr>\n",
       "      <th>3150</th>\n",
       "      <td>1</td>\n",
       "      <td>Massive mobile tech companies like @apple @xia...</td>\n",
       "    </tr>\n",
       "    <tr>\n",
       "      <th>422</th>\n",
       "      <td>0</td>\n",
       "      <td>@apple really needs to do something about thes...</td>\n",
       "    </tr>\n",
       "  </tbody>\n",
       "</table>\n",
       "</div>"
      ],
      "text/plain": [
       "      sentiment                                               text\n",
       "2620          0  @L2DAWASHINGTON @Apple I hope them faggots get...\n",
       "2909          1  RT @yungjoseg: Poor dudes out here gettin slan...\n",
       "3229          0  Good grief, @Apple, could you all have a more ...\n",
       "3613          2  #apple earns more #profit in on quarter than #...\n",
       "1211          2  #Apple Is Now Worth More Than The Entire Russi...\n",
       "3406          1  RT @TeamCavuto: Protesters stage #DieIn protes...\n",
       "1132          1              @Apple why isn't there an otter emoji\n",
       "2860          1  RT @FrankThePilot: can we get a touch screen m...\n",
       "3150          1  Massive mobile tech companies like @apple @xia...\n",
       "422           0  @apple really needs to do something about thes..."
      ]
     },
     "execution_count": 4,
     "metadata": {},
     "output_type": "execute_result"
    }
   ],
   "source": [
    "sentiment_map = {0:'negative',1:'nuetral',2:'positive'}\n",
    "# 1 negative 3 nuetral 5 positive ====> 0 negative 1 nuetral 2 positive\n",
    "df.drop(df[df['sentiment']=='not_relevant'].index, inplace = True) \n",
    "df['sentiment'] = df['sentiment'].apply(lambda x:(int(x)-1)//2)\n",
    "df.sample(10)"
   ]
  },
  {
   "cell_type": "code",
   "execution_count": 5,
   "metadata": {
    "colab": {
     "base_uri": "https://localhost:8080/"
    },
    "id": "Ml4hSDpgXpYZ",
    "outputId": "ec436947-407d-4ce8-c99c-ca85f10e69a9"
   },
   "outputs": [
    {
     "data": {
      "text/plain": [
       "sentiment     int64\n",
       "text         object\n",
       "dtype: object"
      ]
     },
     "execution_count": 5,
     "metadata": {},
     "output_type": "execute_result"
    }
   ],
   "source": [
    "df.dtypes"
   ]
  },
  {
   "cell_type": "code",
   "execution_count": 6,
   "metadata": {
    "colab": {
     "base_uri": "https://localhost:8080/"
    },
    "id": "XghCVzs9MPX5",
    "outputId": "bfdfafef-1c98-4b17-e672-cb38ef7b951d"
   },
   "outputs": [
    {
     "name": "stdout",
     "output_type": "stream",
     "text": [
      "Negative : 1219\n",
      "Nuetral : 2162\n",
      "Positive : 423\n"
     ]
    }
   ],
   "source": [
    "print(\"Negative : {}\".format((df.sentiment==0).sum()))\n",
    "print(\"Nuetral : {}\".format((df.sentiment==1).sum()))\n",
    "print(\"Positive : {}\".format((df.sentiment==2).sum()))"
   ]
  },
  {
   "cell_type": "markdown",
   "metadata": {},
   "source": [
    "# Preprocessing"
   ]
  },
  {
   "cell_type": "code",
   "execution_count": 7,
   "metadata": {
    "id": "fPkORNwsYmaq"
   },
   "outputs": [],
   "source": [
    "def lower_text(input_text):\n",
    "    return input_text.lower()\n",
    "\n",
    "def remove_punctuations(input_text):\n",
    "    input_text = re.sub(r'[^\\w\\s@#]', '', input_text)\n",
    "    return input_text\n",
    "\n",
    "def remove_at(input_text):\n",
    "    input_text = re.sub(r'\\@\\w+$','',input_text)\n",
    "    input_text = re.sub(r'\\@\\w+(\\s)','',input_text)\n",
    "    return input_text\n",
    "\n",
    "def remove_url(input_text):\n",
    "    input_text = re.sub(r'https?\\S+(\\s)','',input_text)\n",
    "    input_text = re.sub(r'pic?\\S+(\\s)','',input_text)\n",
    "    input_text = re.sub(r'https?\\S+$','',input_text)\n",
    "    input_text = re.sub(r'pic?\\S+$','',input_text)\n",
    "    return input_text\n",
    "\n",
    "def extract_hashtags(input_text):\n",
    "    hashtags1 = re.findall('[#$]\\w+\\s',input_text)\n",
    "    hashtags2 = re.findall('[#$]\\w+$',input_text)\n",
    "    hashtags = hashtags1 + hashtags2\n",
    "    for i in range(len(hashtags)):\n",
    "        hashtags[i] = hashtags[i].strip()[1:]\n",
    "    return ' '.join(hashtags)\n",
    "    \n",
    "def remove_hashtags(input_text):\n",
    "    input_text = re.sub('[#$]\\w+\\s',' ',input_text)\n",
    "    return re.sub('[#$]\\w+$',' ',input_text)\n",
    "\n",
    "def remove_encoded_words(input_text):\n",
    "    return re.sub(r'[^\\x00-\\x7F]+',' ', input_text)\n",
    "\n",
    "def remove_noise(input_text):\n",
    "    input_text = re.sub(r'^rt',' ',input_text)\n",
    "    input_text = re.sub(r'\\W',' ',input_text)\n",
    "    input_text = re.sub(r'\\d',' ',input_text)\n",
    "    input_text = re.sub(r'\\s+',' ',input_text)\n",
    "    return input_text"
   ]
  },
  {
   "cell_type": "code",
   "execution_count": 8,
   "metadata": {
    "id": "RcwycbBkqr1u"
   },
   "outputs": [],
   "source": [
    "def clean_text(input_text):\n",
    "    sentences = sent_tokenize(input_text)\n",
    "    for i in range(len(sentences)):\n",
    "        sentences[i] = lower_text(sentences[i])\n",
    "        sentences[i] = remove_punctuations(sentences[i])\n",
    "        sentences[i] = remove_at(sentences[i])\n",
    "        sentences[i] = remove_url(sentences[i])\n",
    "        sentences[i] = remove_hashtags(sentences[i])\n",
    "        sentences[i] = remove_encoded_words(sentences[i])\n",
    "        sentences[i] = remove_noise(sentences[i])\n",
    "        words = word_tokenize(sentences[i])\n",
    "        new = []\n",
    "        for word in words:\n",
    "            if word not in stopwords.words('english'):\n",
    "                new.append(word)\n",
    "        sentences[i] = ' '.join(new)\n",
    "    return sentences"
   ]
  },
  {
   "cell_type": "code",
   "execution_count": 9,
   "metadata": {
    "id": "89SnW9Zrqtpa"
   },
   "outputs": [],
   "source": [
    "def lematization(sentences):\n",
    "    lem = WordNetLemmatizer()\n",
    "    for i in range(len(sentences)):\n",
    "        words = nltk.word_tokenize(sentences[i])\n",
    "        words = [lem.lemmatize(word,pos='v') for word in words]\n",
    "        sentences[i] = ' '.join(words)\n",
    "    return sentences\n",
    "\n",
    "def stemming(sentences):\n",
    "    stemmer = PorterStemmer()\n",
    "    for i in range(len(sentences)):\n",
    "        words = nltk.word_tokenize(sentences[i])\n",
    "        words = [stemmer.stem(word) for word in words]\n",
    "        sentences[i] = ' '.join(words)\n",
    "    return sentences\n",
    "\n",
    "def spell_correction(sentences):\n",
    "    lem = WordNetLemmatizer()\n",
    "    for i in range(len(sentences)):\n",
    "        words = nltk.word_tokenize(sentences[i])\n",
    "        words = [str(TextBlob(word).correct()) for word in words]\n",
    "        words = [lem.lemmatize(word,pos='v') for word in words]\n",
    "        sentences[i] = ' '.join(words)\n",
    "    return sentences"
   ]
  },
  {
   "cell_type": "code",
   "execution_count": 10,
   "metadata": {
    "id": "jGi02gtvqvmm"
   },
   "outputs": [],
   "source": [
    "def technique1(input_text):\n",
    "    sentences = clean_text(input_text)\n",
    "    sentences = lematization(sentences)\n",
    "    return ' '.join(sentences)\n",
    "\n",
    "def technique2(input_text):\n",
    "    sentences = clean_text(input_text)\n",
    "    sentences = stemming(sentences)\n",
    "    return ' '.join(sentences)\n",
    "\n",
    "def technique3(input_text):\n",
    "    sentences = clean_text(input_text)\n",
    "    sentences = spell_correction(sentences)\n",
    "    return ' '.join(sentences)"
   ]
  },
  {
   "cell_type": "code",
   "execution_count": 11,
   "metadata": {
    "colab": {
     "base_uri": "https://localhost:8080/",
     "height": 323
    },
    "id": "Qx_dK3CnsHP-",
    "outputId": "87df362e-1b4f-44a4-c5cd-773a82a0f9d6"
   },
   "outputs": [
    {
     "name": "stdout",
     "output_type": "stream",
     "text": [
      "Technique 1 completed\n",
      "Technique 2 completed\n"
     ]
    },
    {
     "data": {
      "text/html": [
       "<div>\n",
       "<style scoped>\n",
       "    .dataframe tbody tr th:only-of-type {\n",
       "        vertical-align: middle;\n",
       "    }\n",
       "\n",
       "    .dataframe tbody tr th {\n",
       "        vertical-align: top;\n",
       "    }\n",
       "\n",
       "    .dataframe thead th {\n",
       "        text-align: right;\n",
       "    }\n",
       "</style>\n",
       "<table border=\"1\" class=\"dataframe\">\n",
       "  <thead>\n",
       "    <tr style=\"text-align: right;\">\n",
       "      <th></th>\n",
       "      <th>sentiment</th>\n",
       "      <th>text</th>\n",
       "      <th>text_lematized</th>\n",
       "      <th>text_stemmed</th>\n",
       "      <th>hashtags</th>\n",
       "    </tr>\n",
       "  </thead>\n",
       "  <tbody>\n",
       "    <tr>\n",
       "      <th>1131</th>\n",
       "      <td>0</td>\n",
       "      <td>over 1 hour on hold with @apple customer servi...</td>\n",
       "      <td>hour hold customer service try figure messup</td>\n",
       "      <td>hour hold custom servic tri figur messup</td>\n",
       "      <td></td>\n",
       "    </tr>\n",
       "    <tr>\n",
       "      <th>888</th>\n",
       "      <td>1</td>\n",
       "      <td>Apple Price-Target Rises to $140 http://t.co/q...</td>\n",
       "      <td>apple pricetarget rise</td>\n",
       "      <td>appl pricetarget rise</td>\n",
       "      <td>140 Apple AAPL</td>\n",
       "    </tr>\n",
       "    <tr>\n",
       "      <th>789</th>\n",
       "      <td>0</td>\n",
       "      <td>@SaifBinS3eed @Apple get the cloud to butt ext...</td>\n",
       "      <td>get cloud butt extension web browser</td>\n",
       "      <td>get cloud butt extens web browser</td>\n",
       "      <td></td>\n",
       "    </tr>\n",
       "    <tr>\n",
       "      <th>3787</th>\n",
       "      <td>1</td>\n",
       "      <td>Apple iPod class action trial to continue temp...</td>\n",
       "      <td>apple ipod class action trial continue tempora...</td>\n",
       "      <td>appl ipod class action trial continu temporari...</td>\n",
       "      <td>AAPL aapl</td>\n",
       "    </tr>\n",
       "    <tr>\n",
       "      <th>699</th>\n",
       "      <td>1</td>\n",
       "      <td>Steve Jobs emails featured in Apple iPod US an...</td>\n",
       "      <td>steve job email feature apple ipod us antitrus...</td>\n",
       "      <td>steve job email featur appl ipod us antitrust ...</td>\n",
       "      <td>AAPL</td>\n",
       "    </tr>\n",
       "  </tbody>\n",
       "</table>\n",
       "</div>"
      ],
      "text/plain": [
       "      sentiment                                               text  \\\n",
       "1131          0  over 1 hour on hold with @apple customer servi...   \n",
       "888           1  Apple Price-Target Rises to $140 http://t.co/q...   \n",
       "789           0  @SaifBinS3eed @Apple get the cloud to butt ext...   \n",
       "3787          1  Apple iPod class action trial to continue temp...   \n",
       "699           1  Steve Jobs emails featured in Apple iPod US an...   \n",
       "\n",
       "                                         text_lematized  \\\n",
       "1131       hour hold customer service try figure messup   \n",
       "888                              apple pricetarget rise   \n",
       "789                get cloud butt extension web browser   \n",
       "3787  apple ipod class action trial continue tempora...   \n",
       "699   steve job email feature apple ipod us antitrus...   \n",
       "\n",
       "                                           text_stemmed        hashtags  \n",
       "1131           hour hold custom servic tri figur messup                  \n",
       "888                               appl pricetarget rise  140 Apple AAPL  \n",
       "789                   get cloud butt extens web browser                  \n",
       "3787  appl ipod class action trial continu temporari...       AAPL aapl  \n",
       "699   steve job email featur appl ipod us antitrust ...            AAPL  "
      ]
     },
     "execution_count": 11,
     "metadata": {},
     "output_type": "execute_result"
    }
   ],
   "source": [
    "time_taken = []\n",
    "start = time.time()\n",
    "df['text_lematized'] = df['text'].apply(technique1)\n",
    "time_taken.append(time.time()-start)\n",
    "print('Technique 1 completed')\n",
    "start = time.time()\n",
    "df['text_stemmed'] = df['text'].apply(technique2)\n",
    "time_taken.append(time.time()-start)\n",
    "print('Technique 2 completed')\n",
    "# Spell check takes very long\n",
    "'''\n",
    "start = time.time()\n",
    "df['text_spell_checked'] = df['text'].apply(technique3)\n",
    "time_taken.append(time.time()-start)\n",
    "print('Technique 3 completed')\n",
    "'''\n",
    "df['hashtags'] = df['text'].apply(extract_hashtags)\n",
    "df.sample(5)"
   ]
  },
  {
   "cell_type": "markdown",
   "metadata": {},
   "source": [
    "# View Random Tweet"
   ]
  },
  {
   "cell_type": "code",
   "execution_count": 12,
   "metadata": {
    "id": "KrH_rbhQu2zl"
   },
   "outputs": [],
   "source": [
    "def random_tweet(df):\n",
    "    i = random.randint(0,df.shape[0])\n",
    "    print(\"Tweet : {}\".format(df['text'][i]))\n",
    "    print(\"\\nSentiment : {}\".format(sentiment_map[df['sentiment'][i]])) \n",
    "    print(\"\\nLematized Tweet : {}\".format(df['text_lematized'][i]))\n",
    "    print(\"\\nStemmed Tweet : {}\".format(df['text_stemmed'][i]))\n",
    "    print(\"\\nHashtags : {}\".format(extract_hashtags(df['text'][i])))"
   ]
  },
  {
   "cell_type": "code",
   "execution_count": 13,
   "metadata": {
    "colab": {
     "base_uri": "https://localhost:8080/"
    },
    "id": "CW0E_ypePuet",
    "outputId": "ee0959ff-a5c3-41b9-a24a-e94ece0eec0a"
   },
   "outputs": [
    {
     "name": "stdout",
     "output_type": "stream",
     "text": [
      "Tweet : @zoee_janoskians @Apple WHAT HAPPENED OMD\n",
      "\n",
      "Sentiment : nuetral\n",
      "\n",
      "Lematized Tweet : happen omd\n",
      "\n",
      "Stemmed Tweet : happen omd\n",
      "\n",
      "Hashtags : \n"
     ]
    }
   ],
   "source": [
    "random_tweet(df)"
   ]
  },
  {
   "cell_type": "markdown",
   "metadata": {},
   "source": [
    "# Comparision of techniques based on time taken"
   ]
  },
  {
   "cell_type": "code",
   "execution_count": 14,
   "metadata": {
    "colab": {
     "base_uri": "https://localhost:8080/",
     "height": 312
    },
    "id": "AImIDIC3dGCN",
    "outputId": "40089636-ccde-4ac6-8ffc-1e961ad10379"
   },
   "outputs": [
    {
     "data": {
      "text/plain": [
       "<BarContainer object of 2 artists>"
      ]
     },
     "execution_count": 14,
     "metadata": {},
     "output_type": "execute_result"
    },
    {
     "data": {
      "image/png": "[encoded data removed]",
      "text/plain": [
       "<Figure size 432x288 with 1 Axes>"
      ]
     },
     "metadata": {
      "needs_background": "light"
     },
     "output_type": "display_data"
    }
   ],
   "source": [
    "plt.title('Time taken for each method')\n",
    "plt.ylabel('Time')\n",
    "plt.xlabel('Techniques for preprocessing')\n",
    "plt.bar(['Lemmatization','Stemming'],time_taken,width=0.3,color='r')"
   ]
  },
  {
   "cell_type": "markdown",
   "metadata": {},
   "source": [
    "# Training Bayes and SVM models\n",
    "## Stemming takes less time hence technique 2 is used"
   ]
  },
  {
   "cell_type": "code",
   "execution_count": 15,
   "metadata": {
    "colab": {
     "base_uri": "https://localhost:8080/"
    },
    "id": "4jc8KyExhJkg",
    "outputId": "b73a4e1a-bd61-480d-a1d0-9a7f9c7e3941"
   },
   "outputs": [
    {
     "name": "stdout",
     "output_type": "stream",
     "text": [
      "Enter 0 for Stemming and 1 for Lemmatization : 0\n"
     ]
    }
   ],
   "source": [
    "train_percent = 0.90\n",
    "\n",
    "while True:\n",
    "    choice = int(input('Enter 0 for Stemming and 1 for Lemmatization : '))\n",
    "    if choice==0:\n",
    "        X = list(df['text_stemmed'])\n",
    "        break\n",
    "    elif choice==1:\n",
    "        X = list(df['text_lematized'])\n",
    "        break\n",
    "    else:\n",
    "        continue\n",
    "X_hashed = list(df['hashtags'])\n",
    "Y = list(df['sentiment'])\n",
    "X_train = X[:int(train_percent*len(X))]\n",
    "Y_train = Y[:int(train_percent*len(X))]\n",
    "X_hashed_train = X_hashed[:int(train_percent*len(X))]\n",
    "X_test = X[int(train_percent*len(X)):]\n",
    "Y_test = Y[int(train_percent*len(X)):]\n",
    "X_hashed_test = X_hashed[int(train_percent*len(X)):]"
   ]
  },
  {
   "cell_type": "code",
   "execution_count": 16,
   "metadata": {
    "id": "lLpYxXMX80hN"
   },
   "outputs": [],
   "source": [
    "def confusionMatrix(Y_test,Y_pred):\n",
    "    cm = confusion_matrix(Y_test, Y_pred,labels=[0,1,2],normalize='true')\n",
    "    disp = ConfusionMatrixDisplay(confusion_matrix=cm,display_labels=['negative','nuetral','positive'])\n",
    "    disp.plot(cmap='Blues',xticks_rotation='vertical')"
   ]
  },
  {
   "cell_type": "code",
   "execution_count": 17,
   "metadata": {
    "id": "x56KkOsMq43o"
   },
   "outputs": [],
   "source": [
    "model_bayes_text = make_pipeline(TfidfVectorizer(),MultinomialNB())\n",
    "\n",
    "model_bayes_text.fit(X_train,Y_train)\n",
    "\n",
    "Y_pred = model_bayes_text.predict(X_test)"
   ]
  },
  {
   "cell_type": "code",
   "execution_count": 18,
   "metadata": {
    "colab": {
     "base_uri": "https://localhost:8080/",
     "height": 313
    },
    "id": "CS3j_0ChsQlQ",
    "outputId": "f702e0a2-e901-4bbe-cf8a-9c19370b682b"
   },
   "outputs": [
    {
     "name": "stdout",
     "output_type": "stream",
     "text": [
      "Accuracy : 0.7007874015748031\n"
     ]
    },
    {
     "data": {
      "image/png": "[encoded data removed]",
      "text/plain": [
       "<Figure size 432x288 with 2 Axes>"
      ]
     },
     "metadata": {
      "needs_background": "light"
     },
     "output_type": "display_data"
    }
   ],
   "source": [
    "print(\"Accuracy : {}\".format(model_bayes_text.score(X_test,Y_test)))\n",
    "confusionMatrix(Y_test,Y_pred)"
   ]
  },
  {
   "cell_type": "code",
   "execution_count": 24,
   "metadata": {
    "id": "pSynJvjNLx1M"
   },
   "outputs": [],
   "source": [
    "def predict_sentiment(model,X,X_hashed,alpha=0.2):\n",
    "    Y_pred_text = model.predict_proba(X)\n",
    "    Y_pred = []\n",
    "    for i in range(len(X)):\n",
    "        if X_hashed[i]!='':\n",
    "            Y_pred_text[i] = (1-alpha)*Y_pred_text[i]+alpha*model.predict_proba([X_hashed[i]])\n",
    "        score = Y_pred_text[i][1]+2*Y_pred_text[i][2]\n",
    "        if score>=1.1:\n",
    "            Y_pred.append(2)\n",
    "        elif score<=0.70:\n",
    "            Y_pred.append(0)\n",
    "        else:\n",
    "            Y_pred.append(1)\n",
    "    return Y_pred \n",
    "\n",
    "def accuracy(Y_test,Y_pred):\n",
    "    score = 0\n",
    "    for i in range(len(Y_test)):\n",
    "        if Y_test[i]==Y_pred[i]:\n",
    "            score+=1\n",
    "    return float(score)/len(Y_test)"
   ]
  },
  {
   "cell_type": "code",
   "execution_count": 25,
   "metadata": {
    "colab": {
     "base_uri": "https://localhost:8080/",
     "height": 313
    },
    "id": "EghLtUM9UxXX",
    "outputId": "7cb36694-296f-43be-8353-e307ae720387"
   },
   "outputs": [
    {
     "name": "stdout",
     "output_type": "stream",
     "text": [
      "Accuracy : 0.7139107611548556\n"
     ]
    },
    {
     "data": {
      "image/png": "[encoded data removed]",
      "text/plain": [
       "<Figure size 432x288 with 2 Axes>"
      ]
     },
     "metadata": {
      "needs_background": "light"
     },
     "output_type": "display_data"
    }
   ],
   "source": [
    "Y_pred = predict_sentiment(model_bayes_text,X_test,X_hashed_test)\n",
    "print(\"Accuracy : {}\".format(accuracy(Y_test,Y_pred)))\n",
    "confusionMatrix(Y_test,Y_pred)"
   ]
  },
  {
   "cell_type": "code",
   "execution_count": 30,
   "metadata": {
    "colab": {
     "base_uri": "https://localhost:8080/"
    },
    "id": "b-n_ToFSipLb",
    "outputId": "c96745da-c956-474a-a22a-999849fd36a6"
   },
   "outputs": [
    {
     "name": "stdout",
     "output_type": "stream",
     "text": [
      "Enter tweet : Good product #average\n"
     ]
    },
    {
     "data": {
      "text/plain": [
       "[1]"
      ]
     },
     "execution_count": 30,
     "metadata": {},
     "output_type": "execute_result"
    }
   ],
   "source": [
    "tweet = input('Enter tweet : ')\n",
    "predict_sentiment(model_bayes_text,[technique2(tweet)],[extract_hashtags(tweet)])"
   ]
  },
  {
   "cell_type": "code",
   "execution_count": 31,
   "metadata": {
    "id": "8R_dGyA3tbk5"
   },
   "outputs": [],
   "source": [
    "model_svm_text = make_pipeline(TfidfVectorizer(),SVC(probability=True))\n",
    "\n",
    "model_svm_text.fit(X_train,Y_train)\n",
    "\n",
    "Y_pred = model_svm_text.predict(X_test)"
   ]
  },
  {
   "cell_type": "code",
   "execution_count": 32,
   "metadata": {
    "colab": {
     "base_uri": "https://localhost:8080/",
     "height": 313
    },
    "id": "5KrW37SVuMvK",
    "outputId": "7d89b8f0-02af-45f0-b522-ee9427a0bb76"
   },
   "outputs": [
    {
     "name": "stdout",
     "output_type": "stream",
     "text": [
      "Accuracy : 0.7112860892388452\n"
     ]
    },
    {
     "data": {
      "image/png": "[encoded data removed]",
      "text/plain": [
       "<Figure size 432x288 with 2 Axes>"
      ]
     },
     "metadata": {
      "needs_background": "light"
     },
     "output_type": "display_data"
    }
   ],
   "source": [
    "print(\"Accuracy : {}\".format(model_svm_text.score(X_test,Y_test)))\n",
    "confusionMatrix(Y_test,Y_pred)"
   ]
  },
  {
   "cell_type": "code",
   "execution_count": 34,
   "metadata": {
    "colab": {
     "base_uri": "https://localhost:8080/"
    },
    "id": "9J9LJWvF7T5a",
    "outputId": "9e507206-e86c-49be-84da-d762e0326025"
   },
   "outputs": [
    {
     "name": "stdout",
     "output_type": "stream",
     "text": [
      "Accuracy : 0.7007874015748031\n"
     ]
    },
    {
     "data": {
      "image/png": "[encoded data removed]",
      "text/plain": [
       "<Figure size 432x288 with 2 Axes>"
      ]
     },
     "metadata": {
      "needs_background": "light"
     },
     "output_type": "display_data"
    }
   ],
   "source": [
    "Y_pred = predict_sentiment(model_svm_text,X_test,X_hashed_test)\n",
    "print(\"Accuracy : {}\".format(accuracy(Y_test,Y_pred)))\n",
    "confusionMatrix(Y_test,Y_pred)"
   ]
  },
  {
   "cell_type": "code",
   "execution_count": 35,
   "metadata": {},
   "outputs": [
    {
     "name": "stdout",
     "output_type": "stream",
     "text": [
      "Enter tweet : Great product #worth\n"
     ]
    },
    {
     "data": {
      "text/plain": [
       "[2]"
      ]
     },
     "execution_count": 35,
     "metadata": {},
     "output_type": "execute_result"
    }
   ],
   "source": [
    "tweet = input('Enter tweet : ')\n",
    "predict_sentiment(model_svm_text,[technique2(tweet)],[extract_hashtags(tweet)])"
   ]
  },
  {
   "cell_type": "markdown",
   "metadata": {},
   "source": [
    "# Performing Sentiment analysis on twitter data obtained using tweepy api\n",
    "## SVM model performs better thus SVM with stemming as preprocessing technique is used"
   ]
  },
  {
   "cell_type": "code",
   "execution_count": 45,
   "metadata": {},
   "outputs": [
    {
     "data": {
      "text/html": [
       "<div>\n",
       "<style scoped>\n",
       "    .dataframe tbody tr th:only-of-type {\n",
       "        vertical-align: middle;\n",
       "    }\n",
       "\n",
       "    .dataframe tbody tr th {\n",
       "        vertical-align: top;\n",
       "    }\n",
       "\n",
       "    .dataframe thead th {\n",
       "        text-align: right;\n",
       "    }\n",
       "</style>\n",
       "<table border=\"1\" class=\"dataframe\">\n",
       "  <thead>\n",
       "    <tr style=\"text-align: right;\">\n",
       "      <th></th>\n",
       "      <th>tweet_text</th>\n",
       "    </tr>\n",
       "  </thead>\n",
       "  <tbody>\n",
       "    <tr>\n",
       "      <th>90</th>\n",
       "      <td>b'\\xf0\\x9f\\x93\\xa3 New Podcast! \"New Episode K...</td>\n",
       "    </tr>\n",
       "    <tr>\n",
       "      <th>20</th>\n",
       "      <td>b\"Love #80s Music!   It's #80s All The way to ...</td>\n",
       "    </tr>\n",
       "    <tr>\n",
       "      <th>16</th>\n",
       "      <td>b'\\xf0\\x9f\\x93\\xa3 New Podcast! \"New Episode K...</td>\n",
       "    </tr>\n",
       "    <tr>\n",
       "      <th>85</th>\n",
       "      <td>b'just had a notification from @alexa99 to rev...</td>\n",
       "    </tr>\n",
       "    <tr>\n",
       "      <th>22</th>\n",
       "      <td>b'Alexa, To be, or not to be | Amazon rolls ou...</td>\n",
       "    </tr>\n",
       "  </tbody>\n",
       "</table>\n",
       "</div>"
      ],
      "text/plain": [
       "                                           tweet_text\n",
       "90  b'\\xf0\\x9f\\x93\\xa3 New Podcast! \"New Episode K...\n",
       "20  b\"Love #80s Music!   It's #80s All The way to ...\n",
       "16  b'\\xf0\\x9f\\x93\\xa3 New Podcast! \"New Episode K...\n",
       "85  b'just had a notification from @alexa99 to rev...\n",
       "22  b'Alexa, To be, or not to be | Amazon rolls ou..."
      ]
     },
     "execution_count": 45,
     "metadata": {},
     "output_type": "execute_result"
    }
   ],
   "source": [
    "tweet_df = pd.read_csv('Tweets.csv',usecols=['tweet_text'])\n",
    "tweet_df.dropna(inplace=True)\n",
    "tweet_df.sample(5)"
   ]
  },
  {
   "cell_type": "code",
   "execution_count": 46,
   "metadata": {},
   "outputs": [],
   "source": [
    "tweet_df['text_stemmed'] = tweet_df['tweet_text'].apply(technique2)\n",
    "tweet_df['hashed'] = tweet_df['tweet_text'].apply(extract_hashtags)\n",
    "X = list(tweet_df['text_stemmed'])\n",
    "X_hashed = list(tweet_df['hashed'])\n",
    "Y_pred = predict_sentiment(model_svm_text,X,X_hashed)"
   ]
  },
  {
   "cell_type": "code",
   "execution_count": 49,
   "metadata": {},
   "outputs": [
    {
     "data": {
      "image/png": "[encoded data removed]",
      "text/plain": [
       "<Figure size 432x288 with 1 Axes>"
      ]
     },
     "metadata": {
      "needs_background": "light"
     },
     "output_type": "display_data"
    }
   ],
   "source": [
    "weights = [Y_pred.count(0),Y_pred.count(1),Y_pred.count(2)]\n",
    "sentiments = ['negative','nuetral','positive']\n",
    "y_pos = np.arange(len(sentiments))\n",
    "plt.bar(y_pos, weights, align='center', alpha=0.8)\n",
    "plt.xticks(y_pos, sentiments)\n",
    "plt.ylabel('Number of tweets')\n",
    "plt.title('Sentiment Analysis')\n",
    "plt.show()"
   ]
  },
  {
   "cell_type": "code",
   "execution_count": null,
   "metadata": {},
   "outputs": [],
   "source": []
  }
 ],
 "metadata": {
  "colab": {
   "collapsed_sections": [],
   "name": "Effective_Text_Data_Preprocessing_Twitter.ipynb",
   "provenance": []
  },
  "kernelspec": {
   "display_name": "Python 3",
   "language": "python",
   "name": "python3"
  },
  "language_info": {
   "codemirror_mode": {
    "name": "ipython",
    "version": 3
   },
   "file_extension": ".py",
   "mimetype": "text/x-python",
   "name": "python",
   "nbconvert_exporter": "python",
   "pygments_lexer": "ipython3",
   "version": "3.7.6"
  }
 },
 "nbformat": 4,
 "nbformat_minor": 1
}
