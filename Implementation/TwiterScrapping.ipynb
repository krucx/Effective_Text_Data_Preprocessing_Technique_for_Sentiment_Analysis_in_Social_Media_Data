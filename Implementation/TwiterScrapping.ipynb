{
 "cells": [
  {
   "cell_type": "markdown",
   "metadata": {},
   "source": [
    "# Importing Credentials and Libraries"
   ]
  },
  {
   "cell_type": "code",
   "execution_count": 1,
   "metadata": {},
   "outputs": [],
   "source": [
    "import twitter_credentials\n",
    "import tweepy\n",
    "import nltk\n",
    "import json\n",
    "import csv\n",
    "import re\n",
    "import datetime\n",
    "import pandas as pd\n",
    "from nltk.stem.wordnet import WordNetLemmatizer\n",
    "from nltk.corpus import stopwords\n",
    "from nltk.tokenize import sent_tokenize, word_tokenize\n",
    "import numpy as np"
   ]
  },
  {
   "cell_type": "code",
   "execution_count": 2,
   "metadata": {},
   "outputs": [
    {
     "name": "stderr",
     "output_type": "stream",
     "text": [
      "[nltk_data] Downloading package punkt to\n",
      "[nltk_data]     C:\\Users\\kritarth\\AppData\\Roaming\\nltk_data...\n",
      "[nltk_data]   Package punkt is already up-to-date!\n",
      "[nltk_data] Downloading package wordnet to\n",
      "[nltk_data]     C:\\Users\\kritarth\\AppData\\Roaming\\nltk_data...\n",
      "[nltk_data]   Package wordnet is already up-to-date!\n",
      "[nltk_data] Downloading package stopwords to\n",
      "[nltk_data]     C:\\Users\\kritarth\\AppData\\Roaming\\nltk_data...\n",
      "[nltk_data]   Package stopwords is already up-to-date!\n"
     ]
    },
    {
     "data": {
      "text/plain": [
       "True"
      ]
     },
     "execution_count": 2,
     "metadata": {},
     "output_type": "execute_result"
    }
   ],
   "source": [
    "nltk.download('punkt')\n",
    "nltk.download('wordnet')\n",
    "nltk.download('stopwords')"
   ]
  },
  {
   "cell_type": "markdown",
   "metadata": {},
   "source": [
    "# Seaching for tweets based on hashtag"
   ]
  },
  {
   "cell_type": "code",
   "execution_count": 3,
   "metadata": {},
   "outputs": [],
   "source": [
    "def search_for_hashtags(api_key, api_secret_key, access_token, access_token_secret, hashtag_phrase):\n",
    "\n",
    "    auth = tweepy.OAuthHandler(api_key, api_secret_key)\n",
    "    auth.set_access_token(access_token, access_token_secret)\n",
    "\n",
    "    api = tweepy.API(auth)\n",
    "\n",
    "    startDate = datetime.datetime(2017, 1, 1)\n",
    "    endDate =   datetime.datetime(2021, 4, 18)\n",
    "\n",
    "    data = []\n",
    "    for tweet in tweepy.Cursor(api.search, q=hashtag_phrase+' -filter:retweets', lang=\"en\",tweet_mode='extended').items(100):\n",
    "        rowData = [tweet.created_at, tweet.full_text.replace('\\n', ' ').encode('utf8'), tweet.user.screen_name.encode(\n",
    "            'utf8'), [e['text'] for e in tweet._json['entities']['hashtags']], tweet.user.followers_count]\n",
    "        data.append(rowData)\n",
    "\n",
    "    df = pd.DataFrame(data, columns=[\n",
    "                      'timestamp', 'tweet_text', 'username', 'all_hashtags', 'followers_count'])\n",
    "    return df"
   ]
  },
  {
   "cell_type": "code",
   "execution_count": 4,
   "metadata": {
    "tags": []
   },
   "outputs": [
    {
     "name": "stdout",
     "output_type": "stream",
     "text": [
      "Hashtag Phrase : AmazonAlexa\n"
     ]
    }
   ],
   "source": [
    "consumer_key = twitter_credentials.API_key.encode('utf-8')\n",
    "consumer_secret = twitter_credentials.API_secret_key.encode('utf-8')\n",
    "access_token = twitter_credentials.Access_token.encode('utf-8')\n",
    "access_token_secret = twitter_credentials.Access_token_secret.encode('utf-8')\n",
    "\n",
    "\n",
    "hashtag_phrase = input('Hashtag Phrase : ')\n",
    "data = search_for_hashtags(consumer_key, consumer_secret,\n",
    "                           access_token, access_token_secret, hashtag_phrase)\n",
    "data.to_csv('Tweets.csv')                 "
   ]
  },
  {
   "cell_type": "code",
   "execution_count": null,
   "metadata": {},
   "outputs": [],
   "source": []
  }
 ],
 "metadata": {
  "kernelspec": {
   "display_name": "Python 3",
   "language": "python",
   "name": "python3"
  },
  "language_info": {
   "codemirror_mode": {
    "name": "ipython",
    "version": 3
   },
   "file_extension": ".py",
   "mimetype": "text/x-python",
   "name": "python",
   "nbconvert_exporter": "python",
   "pygments_lexer": "ipython3",
   "version": "3.7.6"
  }
 },
 "nbformat": 4,
 "nbformat_minor": 5
}
