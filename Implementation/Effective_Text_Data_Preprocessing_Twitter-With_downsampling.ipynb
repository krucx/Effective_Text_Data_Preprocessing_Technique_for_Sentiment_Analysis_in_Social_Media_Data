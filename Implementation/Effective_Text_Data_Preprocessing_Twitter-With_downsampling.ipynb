{
 "cells": [
  {
   "cell_type": "markdown",
   "metadata": {},
   "source": [
    "# Importing Libraies"
   ]
  },
  {
   "cell_type": "code",
   "execution_count": 1,
   "metadata": {
    "id": "QzHrPtBrS9KQ"
   },
   "outputs": [],
   "source": [
    "import pandas as pd\n",
    "import numpy as np\n",
    "import nltk\n",
    "from nltk.stem.wordnet import WordNetLemmatizer\n",
    "from nltk.corpus import stopwords\n",
    "import re\n",
    "from nltk.tokenize import sent_tokenize, word_tokenize\n",
    "from textblob import TextBlob\n",
    "from nltk.stem import PorterStemmer\n",
    "import time\n",
    "import matplotlib.pyplot as plt\n",
    "import random\n",
    "from sklearn.feature_extraction.text import TfidfVectorizer\n",
    "from sklearn.naive_bayes import MultinomialNB\n",
    "from sklearn.pipeline import make_pipeline\n",
    "from sklearn.metrics import confusion_matrix, ConfusionMatrixDisplay\n",
    "from sklearn.svm import SVC"
   ]
  },
  {
   "cell_type": "code",
   "execution_count": 2,
   "metadata": {
    "colab": {
     "base_uri": "https://localhost:8080/"
    },
    "id": "MuKZjSPomLJS",
    "outputId": "227c2186-4f3a-43d1-af57-ae5670cc0e44"
   },
   "outputs": [
    {
     "name": "stderr",
     "output_type": "stream",
     "text": [
      "[nltk_data] Downloading package punkt to\n",
      "[nltk_data]     C:\\Users\\kritarth\\AppData\\Roaming\\nltk_data...\n",
      "[nltk_data]   Package punkt is already up-to-date!\n",
      "[nltk_data] Downloading package stopwords to\n",
      "[nltk_data]     C:\\Users\\kritarth\\AppData\\Roaming\\nltk_data...\n",
      "[nltk_data]   Package stopwords is already up-to-date!\n",
      "[nltk_data] Downloading package wordnet to\n",
      "[nltk_data]     C:\\Users\\kritarth\\AppData\\Roaming\\nltk_data...\n",
      "[nltk_data]   Package wordnet is already up-to-date!\n"
     ]
    },
    {
     "data": {
      "text/plain": [
       "True"
      ]
     },
     "execution_count": 2,
     "metadata": {},
     "output_type": "execute_result"
    }
   ],
   "source": [
    "nltk.download('punkt')\n",
    "nltk.download('stopwords')\n",
    "nltk.download('wordnet')"
   ]
  },
  {
   "cell_type": "markdown",
   "metadata": {},
   "source": [
    "# Data Exploration\n",
    "## dataset link : https://data.world/crowdflower/apple-twitter-sentiment"
   ]
  },
  {
   "cell_type": "code",
   "execution_count": 3,
   "metadata": {
    "colab": {
     "base_uri": "https://localhost:8080/",
     "height": 204
    },
    "id": "CdaoavwRTjka",
    "outputId": "3973084a-8b6f-4ade-9d99-8973ad64bafd"
   },
   "outputs": [
    {
     "data": {
      "text/html": [
       "<div>\n",
       "<style scoped>\n",
       "    .dataframe tbody tr th:only-of-type {\n",
       "        vertical-align: middle;\n",
       "    }\n",
       "\n",
       "    .dataframe tbody tr th {\n",
       "        vertical-align: top;\n",
       "    }\n",
       "\n",
       "    .dataframe thead th {\n",
       "        text-align: right;\n",
       "    }\n",
       "</style>\n",
       "<table border=\"1\" class=\"dataframe\">\n",
       "  <thead>\n",
       "    <tr style=\"text-align: right;\">\n",
       "      <th></th>\n",
       "      <th>sentiment</th>\n",
       "      <th>text</th>\n",
       "    </tr>\n",
       "  </thead>\n",
       "  <tbody>\n",
       "    <tr>\n",
       "      <th>3267</th>\n",
       "      <td>1</td>\n",
       "      <td>.@Apple there is still not a suicide note temp...</td>\n",
       "    </tr>\n",
       "    <tr>\n",
       "      <th>2665</th>\n",
       "      <td>3</td>\n",
       "      <td>Explore all the Apple rumours for 2015 http://...</td>\n",
       "    </tr>\n",
       "    <tr>\n",
       "      <th>141</th>\n",
       "      <td>3</td>\n",
       "      <td>Barclay's #Apple Analyst Joins The Crowd And I...</td>\n",
       "    </tr>\n",
       "    <tr>\n",
       "      <th>704</th>\n",
       "      <td>3</td>\n",
       "      <td>RT @Stuff_SG: The rumoured @oppo R8207 looks v...</td>\n",
       "    </tr>\n",
       "    <tr>\n",
       "      <th>1935</th>\n",
       "      <td>5</td>\n",
       "      <td>'After School' app gets pulled by @apple ... I...</td>\n",
       "    </tr>\n",
       "  </tbody>\n",
       "</table>\n",
       "</div>"
      ],
      "text/plain": [
       "     sentiment                                               text\n",
       "3267         1  .@Apple there is still not a suicide note temp...\n",
       "2665         3  Explore all the Apple rumours for 2015 http://...\n",
       "141          3  Barclay's #Apple Analyst Joins The Crowd And I...\n",
       "704          3  RT @Stuff_SG: The rumoured @oppo R8207 looks v...\n",
       "1935         5  'After School' app gets pulled by @apple ... I..."
      ]
     },
     "execution_count": 3,
     "metadata": {},
     "output_type": "execute_result"
    }
   ],
   "source": [
    "df = pd.read_csv('apple_twitter_sentiment_dfe.csv',usecols=['sentiment','text'])\n",
    "df.sample(5)"
   ]
  },
  {
   "cell_type": "code",
   "execution_count": 4,
   "metadata": {
    "colab": {
     "base_uri": "https://localhost:8080/",
     "height": 359
    },
    "id": "nPTd5mUZVyll",
    "outputId": "d5415336-733e-49b1-98fa-977189fe7366"
   },
   "outputs": [
    {
     "data": {
      "text/html": [
       "<div>\n",
       "<style scoped>\n",
       "    .dataframe tbody tr th:only-of-type {\n",
       "        vertical-align: middle;\n",
       "    }\n",
       "\n",
       "    .dataframe tbody tr th {\n",
       "        vertical-align: top;\n",
       "    }\n",
       "\n",
       "    .dataframe thead th {\n",
       "        text-align: right;\n",
       "    }\n",
       "</style>\n",
       "<table border=\"1\" class=\"dataframe\">\n",
       "  <thead>\n",
       "    <tr style=\"text-align: right;\">\n",
       "      <th></th>\n",
       "      <th>sentiment</th>\n",
       "      <th>text</th>\n",
       "    </tr>\n",
       "  </thead>\n",
       "  <tbody>\n",
       "    <tr>\n",
       "      <th>3246</th>\n",
       "      <td>1</td>\n",
       "      <td>#Apple PT Raised to $135.00 #AAPL http://t.co/...</td>\n",
       "    </tr>\n",
       "    <tr>\n",
       "      <th>3631</th>\n",
       "      <td>1</td>\n",
       "      <td>Apple antitrust hearing will continue despite ...</td>\n",
       "    </tr>\n",
       "    <tr>\n",
       "      <th>2430</th>\n",
       "      <td>0</td>\n",
       "      <td>Apple Could Face iPhone 6 Shortages Next Year ...</td>\n",
       "    </tr>\n",
       "    <tr>\n",
       "      <th>1224</th>\n",
       "      <td>0</td>\n",
       "      <td>@engadget why are apple users surprised? @appl...</td>\n",
       "    </tr>\n",
       "    <tr>\n",
       "      <th>855</th>\n",
       "      <td>1</td>\n",
       "      <td>@GregBurke85 Just wait until @Apple Inquisitio...</td>\n",
       "    </tr>\n",
       "    <tr>\n",
       "      <th>3873</th>\n",
       "      <td>1</td>\n",
       "      <td>Apple Is Warming Up To Social Media: Apple is ...</td>\n",
       "    </tr>\n",
       "    <tr>\n",
       "      <th>2658</th>\n",
       "      <td>1</td>\n",
       "      <td>#AAPL:iPhone 7 Rumors: Might be Called iPhone ...</td>\n",
       "    </tr>\n",
       "    <tr>\n",
       "      <th>2466</th>\n",
       "      <td>1</td>\n",
       "      <td>Mark Zuckerberg's Newest Frenemy: Tim Cook $AA...</td>\n",
       "    </tr>\n",
       "    <tr>\n",
       "      <th>776</th>\n",
       "      <td>0</td>\n",
       "      <td>GOSH DARNIT @Apple I DONT KNOW WHAT THE CLOUD IS</td>\n",
       "    </tr>\n",
       "    <tr>\n",
       "      <th>1346</th>\n",
       "      <td>1</td>\n",
       "      <td>How many @Apple products does it take to write...</td>\n",
       "    </tr>\n",
       "  </tbody>\n",
       "</table>\n",
       "</div>"
      ],
      "text/plain": [
       "      sentiment                                               text\n",
       "3246          1  #Apple PT Raised to $135.00 #AAPL http://t.co/...\n",
       "3631          1  Apple antitrust hearing will continue despite ...\n",
       "2430          0  Apple Could Face iPhone 6 Shortages Next Year ...\n",
       "1224          0  @engadget why are apple users surprised? @appl...\n",
       "855           1  @GregBurke85 Just wait until @Apple Inquisitio...\n",
       "3873          1  Apple Is Warming Up To Social Media: Apple is ...\n",
       "2658          1  #AAPL:iPhone 7 Rumors: Might be Called iPhone ...\n",
       "2466          1  Mark Zuckerberg's Newest Frenemy: Tim Cook $AA...\n",
       "776           0   GOSH DARNIT @Apple I DONT KNOW WHAT THE CLOUD IS\n",
       "1346          1  How many @Apple products does it take to write..."
      ]
     },
     "execution_count": 4,
     "metadata": {},
     "output_type": "execute_result"
    }
   ],
   "source": [
    "sentiment_map = {0:'negative',1:'nuetral',2:'positive'}\n",
    "# 1 negative 3 nuetral 5 positive ====> 0 negative 1 nuetral 2 positive\n",
    "df.drop(df[df['sentiment']=='not_relevant'].index, inplace = True) \n",
    "df['sentiment'] = df['sentiment'].apply(lambda x:(int(x)-1)//2)\n",
    "df.sample(10)"
   ]
  },
  {
   "cell_type": "code",
   "execution_count": 5,
   "metadata": {
    "colab": {
     "base_uri": "https://localhost:8080/"
    },
    "id": "Ml4hSDpgXpYZ",
    "outputId": "ec436947-407d-4ce8-c99c-ca85f10e69a9"
   },
   "outputs": [
    {
     "data": {
      "text/plain": [
       "sentiment     int64\n",
       "text         object\n",
       "dtype: object"
      ]
     },
     "execution_count": 5,
     "metadata": {},
     "output_type": "execute_result"
    }
   ],
   "source": [
    "df.dtypes"
   ]
  },
  {
   "cell_type": "code",
   "execution_count": 6,
   "metadata": {
    "colab": {
     "base_uri": "https://localhost:8080/"
    },
    "id": "XghCVzs9MPX5",
    "outputId": "bfdfafef-1c98-4b17-e672-cb38ef7b951d"
   },
   "outputs": [
    {
     "name": "stdout",
     "output_type": "stream",
     "text": [
      "Negative : 1219\n",
      "Nuetral : 2162\n",
      "Positive : 423\n"
     ]
    }
   ],
   "source": [
    "print(\"Negative : {}\".format((df.sentiment==0).sum()))\n",
    "print(\"Nuetral : {}\".format((df.sentiment==1).sum()))\n",
    "print(\"Positive : {}\".format((df.sentiment==2).sum()))"
   ]
  },
  {
   "cell_type": "markdown",
   "metadata": {},
   "source": [
    "## Downsampling is performed to remove imbalance"
   ]
  },
  {
   "cell_type": "code",
   "execution_count": 7,
   "metadata": {
    "id": "Jf6BFGTZdfCU"
   },
   "outputs": [],
   "source": [
    "def downsample(df,col='sentiment'):\n",
    "    nmin = df[col].value_counts().min()\n",
    "    return (df.groupby(col).apply(lambda x: x.sample(nmin)).reset_index(drop=True))"
   ]
  },
  {
   "cell_type": "code",
   "execution_count": 8,
   "metadata": {
    "colab": {
     "base_uri": "https://localhost:8080/",
     "height": 255
    },
    "id": "YaQQG2FsfIvB",
    "outputId": "c605fcec-12f0-480e-c593-98a404ef5446"
   },
   "outputs": [
    {
     "name": "stdout",
     "output_type": "stream",
     "text": [
      "Negative : 423\n",
      "Nuetral : 423\n",
      "Positive : 423\n"
     ]
    },
    {
     "data": {
      "text/html": [
       "<div>\n",
       "<style scoped>\n",
       "    .dataframe tbody tr th:only-of-type {\n",
       "        vertical-align: middle;\n",
       "    }\n",
       "\n",
       "    .dataframe tbody tr th {\n",
       "        vertical-align: top;\n",
       "    }\n",
       "\n",
       "    .dataframe thead th {\n",
       "        text-align: right;\n",
       "    }\n",
       "</style>\n",
       "<table border=\"1\" class=\"dataframe\">\n",
       "  <thead>\n",
       "    <tr style=\"text-align: right;\">\n",
       "      <th></th>\n",
       "      <th>sentiment</th>\n",
       "      <th>text</th>\n",
       "    </tr>\n",
       "  </thead>\n",
       "  <tbody>\n",
       "    <tr>\n",
       "      <th>1213</th>\n",
       "      <td>2</td>\n",
       "      <td>Goodbye graphics problems. Thank you @apple fo...</td>\n",
       "    </tr>\n",
       "    <tr>\n",
       "      <th>648</th>\n",
       "      <td>2</td>\n",
       "      <td>.@apple has a 40% market share of UK smartphon...</td>\n",
       "    </tr>\n",
       "    <tr>\n",
       "      <th>583</th>\n",
       "      <td>2</td>\n",
       "      <td>Finally! @Apple Gives #India the Attention it ...</td>\n",
       "    </tr>\n",
       "    <tr>\n",
       "      <th>39</th>\n",
       "      <td>0</td>\n",
       "      <td>Is it just me, who feels #Yosemite eats more b...</td>\n",
       "    </tr>\n",
       "    <tr>\n",
       "      <th>125</th>\n",
       "      <td>0</td>\n",
       "      <td>Why I Hate #Apple. #aapl  http://t.co/inkCjYw0Lq</td>\n",
       "    </tr>\n",
       "  </tbody>\n",
       "</table>\n",
       "</div>"
      ],
      "text/plain": [
       "      sentiment                                               text\n",
       "1213          2  Goodbye graphics problems. Thank you @apple fo...\n",
       "648           2  .@apple has a 40% market share of UK smartphon...\n",
       "583           2  Finally! @Apple Gives #India the Attention it ...\n",
       "39            0  Is it just me, who feels #Yosemite eats more b...\n",
       "125           0   Why I Hate #Apple. #aapl  http://t.co/inkCjYw0Lq"
      ]
     },
     "execution_count": 8,
     "metadata": {},
     "output_type": "execute_result"
    }
   ],
   "source": [
    "df = downsample(df)\n",
    "print(\"Negative : {}\".format((df.sentiment==0).sum()))\n",
    "print(\"Nuetral : {}\".format((df.sentiment==1).sum()))\n",
    "print(\"Positive : {}\".format((df.sentiment==2).sum()))\n",
    "df = df.sample(frac=1).reset_index(drop=True)\n",
    "df.sample(5)"
   ]
  },
  {
   "cell_type": "markdown",
   "metadata": {},
   "source": [
    "# Preprocessing"
   ]
  },
  {
   "cell_type": "code",
   "execution_count": 9,
   "metadata": {
    "id": "fPkORNwsYmaq"
   },
   "outputs": [],
   "source": [
    "def lower_text(input_text):\n",
    "    return input_text.lower()\n",
    "\n",
    "def remove_punctuations(input_text):\n",
    "    input_text = re.sub(r'[^\\w\\s@#]', '', input_text)\n",
    "    return input_text\n",
    "\n",
    "def remove_at(input_text):\n",
    "    input_text = re.sub(r'\\@\\w+$','',input_text)\n",
    "    input_text = re.sub(r'\\@\\w+(\\s)','',input_text)\n",
    "    return input_text\n",
    "\n",
    "def remove_url(input_text):\n",
    "    input_text = re.sub(r'https?\\S+(\\s)','',input_text)\n",
    "    input_text = re.sub(r'pic?\\S+(\\s)','',input_text)\n",
    "    input_text = re.sub(r'https?\\S+$','',input_text)\n",
    "    input_text = re.sub(r'pic?\\S+$','',input_text)\n",
    "    return input_text\n",
    "\n",
    "def extract_hashtags(input_text):\n",
    "    hashtags1 = re.findall('[#$]\\w+\\s',input_text)\n",
    "    hashtags2 = re.findall('[#$]\\w+$',input_text)\n",
    "    hashtags = hashtags1 + hashtags2\n",
    "    for i in range(len(hashtags)):\n",
    "        hashtags[i] = hashtags[i].strip()[1:]\n",
    "    return ' '.join(hashtags)\n",
    "    \n",
    "def remove_hashtags(input_text):\n",
    "    input_text = re.sub('[#$]\\w+\\s',' ',input_text)\n",
    "    return re.sub('[#$]\\w+$',' ',input_text)\n",
    "\n",
    "def remove_encoded_words(input_text):\n",
    "    return re.sub(r'[^\\x00-\\x7F]+',' ', input_text)\n",
    "\n",
    "def remove_noise(input_text):\n",
    "    input_text = re.sub(r'^rt',' ',input_text)\n",
    "    input_text = re.sub(r'\\W',' ',input_text)\n",
    "    input_text = re.sub(r'\\d',' ',input_text)\n",
    "    input_text = re.sub(r'\\s+',' ',input_text)\n",
    "    return input_text"
   ]
  },
  {
   "cell_type": "code",
   "execution_count": 10,
   "metadata": {
    "id": "RcwycbBkqr1u"
   },
   "outputs": [],
   "source": [
    "def clean_text(input_text):\n",
    "    sentences = sent_tokenize(input_text)\n",
    "    for i in range(len(sentences)):\n",
    "        sentences[i] = lower_text(sentences[i])\n",
    "        sentences[i] = remove_punctuations(sentences[i])\n",
    "        sentences[i] = remove_at(sentences[i])\n",
    "        sentences[i] = remove_url(sentences[i])\n",
    "        sentences[i] = remove_hashtags(sentences[i])\n",
    "        sentences[i] = remove_encoded_words(sentences[i])\n",
    "        sentences[i] = remove_noise(sentences[i])\n",
    "        words = word_tokenize(sentences[i])\n",
    "        new = []\n",
    "        for word in words:\n",
    "            if word not in stopwords.words('english'):\n",
    "                new.append(word)\n",
    "        sentences[i] = ' '.join(new)\n",
    "    return sentences"
   ]
  },
  {
   "cell_type": "code",
   "execution_count": 11,
   "metadata": {
    "id": "89SnW9Zrqtpa"
   },
   "outputs": [],
   "source": [
    "def lematization(sentences):\n",
    "    lem = WordNetLemmatizer()\n",
    "    for i in range(len(sentences)):\n",
    "        words = nltk.word_tokenize(sentences[i])\n",
    "        words = [lem.lemmatize(word,pos='v') for word in words]\n",
    "        sentences[i] = ' '.join(words)\n",
    "    return sentences\n",
    "\n",
    "def stemming(sentences):\n",
    "    stemmer = PorterStemmer()\n",
    "    for i in range(len(sentences)):\n",
    "        words = nltk.word_tokenize(sentences[i])\n",
    "        words = [stemmer.stem(word) for word in words]\n",
    "        sentences[i] = ' '.join(words)\n",
    "    return sentences\n",
    "\n",
    "def spell_correction(sentences):\n",
    "    lem = WordNetLemmatizer()\n",
    "    for i in range(len(sentences)):\n",
    "        words = nltk.word_tokenize(sentences[i])\n",
    "        words = [str(TextBlob(word).correct()) for word in words]\n",
    "        words = [lem.lemmatize(word,pos='v') for word in words]\n",
    "        sentences[i] = ' '.join(words)\n",
    "    return sentences"
   ]
  },
  {
   "cell_type": "code",
   "execution_count": 12,
   "metadata": {
    "id": "jGi02gtvqvmm"
   },
   "outputs": [],
   "source": [
    "def technique1(input_text):\n",
    "    sentences = clean_text(input_text)\n",
    "    sentences = lematization(sentences)\n",
    "    return ' '.join(sentences)\n",
    "\n",
    "def technique2(input_text):\n",
    "    sentences = clean_text(input_text)\n",
    "    sentences = stemming(sentences)\n",
    "    return ' '.join(sentences)\n",
    "\n",
    "def technique3(input_text):\n",
    "    sentences = clean_text(input_text)\n",
    "    sentences = spell_correction(sentences)\n",
    "    return ' '.join(sentences)"
   ]
  },
  {
   "cell_type": "code",
   "execution_count": 13,
   "metadata": {
    "colab": {
     "base_uri": "https://localhost:8080/",
     "height": 323
    },
    "id": "Qx_dK3CnsHP-",
    "outputId": "87df362e-1b4f-44a4-c5cd-773a82a0f9d6"
   },
   "outputs": [
    {
     "name": "stdout",
     "output_type": "stream",
     "text": [
      "Technique 1 completed\n",
      "Technique 2 completed\n"
     ]
    },
    {
     "data": {
      "text/html": [
       "<div>\n",
       "<style scoped>\n",
       "    .dataframe tbody tr th:only-of-type {\n",
       "        vertical-align: middle;\n",
       "    }\n",
       "\n",
       "    .dataframe tbody tr th {\n",
       "        vertical-align: top;\n",
       "    }\n",
       "\n",
       "    .dataframe thead th {\n",
       "        text-align: right;\n",
       "    }\n",
       "</style>\n",
       "<table border=\"1\" class=\"dataframe\">\n",
       "  <thead>\n",
       "    <tr style=\"text-align: right;\">\n",
       "      <th></th>\n",
       "      <th>sentiment</th>\n",
       "      <th>text</th>\n",
       "      <th>text_lematized</th>\n",
       "      <th>text_stemmed</th>\n",
       "      <th>hashtags</th>\n",
       "    </tr>\n",
       "  </thead>\n",
       "  <tbody>\n",
       "    <tr>\n",
       "      <th>275</th>\n",
       "      <td>1</td>\n",
       "      <td>Imagine a world without cracked #iPhone screen...</td>\n",
       "      <td>imagine world without crack screen patent drop...</td>\n",
       "      <td>imagin world without crack screen patent drop ...</td>\n",
       "      <td>iPhone</td>\n",
       "    </tr>\n",
       "    <tr>\n",
       "      <th>223</th>\n",
       "      <td>2</td>\n",
       "      <td>Great @apple my phone number is so accurate ht...</td>\n",
       "      <td>great phone number accurate</td>\n",
       "      <td>great phone number accur</td>\n",
       "      <td></td>\n",
       "    </tr>\n",
       "    <tr>\n",
       "      <th>937</th>\n",
       "      <td>1</td>\n",
       "      <td>@iamrayuko @Apple because you know you don't w...</td>\n",
       "      <td>know dont want none</td>\n",
       "      <td>know dont want none</td>\n",
       "      <td></td>\n",
       "    </tr>\n",
       "    <tr>\n",
       "      <th>311</th>\n",
       "      <td>2</td>\n",
       "      <td>.@codeorg it looks like @Apple is offering a f...</td>\n",
       "      <td>look like offer free course one program thing...</td>\n",
       "      <td>look like offer free cours one program thing ...</td>\n",
       "      <td>HourOfCode</td>\n",
       "    </tr>\n",
       "    <tr>\n",
       "      <th>1135</th>\n",
       "      <td>1</td>\n",
       "      <td>RT @JPDesloges: Apple to Support a New Franchi...</td>\n",
       "      <td>apple support new franchise ios store india aapl</td>\n",
       "      <td>appl support new franchis io store india aapl</td>\n",
       "      <td>AAPL aapl</td>\n",
       "    </tr>\n",
       "  </tbody>\n",
       "</table>\n",
       "</div>"
      ],
      "text/plain": [
       "      sentiment                                               text  \\\n",
       "275           1  Imagine a world without cracked #iPhone screen...   \n",
       "223           2  Great @apple my phone number is so accurate ht...   \n",
       "937           1  @iamrayuko @Apple because you know you don't w...   \n",
       "311           2  .@codeorg it looks like @Apple is offering a f...   \n",
       "1135          1  RT @JPDesloges: Apple to Support a New Franchi...   \n",
       "\n",
       "                                         text_lematized  \\\n",
       "275   imagine world without crack screen patent drop...   \n",
       "223                         great phone number accurate   \n",
       "937                                 know dont want none   \n",
       "311    look like offer free course one program thing...   \n",
       "1135   apple support new franchise ios store india aapl   \n",
       "\n",
       "                                           text_stemmed    hashtags  \n",
       "275   imagin world without crack screen patent drop ...      iPhone  \n",
       "223                            great phone number accur              \n",
       "937                                 know dont want none              \n",
       "311    look like offer free cours one program thing ...  HourOfCode  \n",
       "1135      appl support new franchis io store india aapl   AAPL aapl  "
      ]
     },
     "execution_count": 13,
     "metadata": {},
     "output_type": "execute_result"
    }
   ],
   "source": [
    "time_taken = []\n",
    "start = time.time()\n",
    "df['text_lematized'] = df['text'].apply(technique1)\n",
    "time_taken.append(time.time()-start)\n",
    "print('Technique 1 completed')\n",
    "start = time.time()\n",
    "df['text_stemmed'] = df['text'].apply(technique2)\n",
    "time_taken.append(time.time()-start)\n",
    "print('Technique 2 completed')\n",
    "# Spell check takes very long\n",
    "'''\n",
    "start = time.time()\n",
    "df['text_spell_checked'] = df['text'].apply(technique3)\n",
    "time_taken.append(time.time()-start)\n",
    "print('Technique 3 completed')\n",
    "'''\n",
    "df['hashtags'] = df['text'].apply(extract_hashtags)\n",
    "df.sample(5)"
   ]
  },
  {
   "cell_type": "markdown",
   "metadata": {},
   "source": [
    "# View Random Tweet"
   ]
  },
  {
   "cell_type": "code",
   "execution_count": 14,
   "metadata": {
    "id": "KrH_rbhQu2zl"
   },
   "outputs": [],
   "source": [
    "def random_tweet(df):\n",
    "    i = random.randint(0,df.shape[0])\n",
    "    print(\"Tweet : {}\".format(df['text'][i]))\n",
    "    print(\"\\nSentiment : {}\".format(sentiment_map[df['sentiment'][i]])) \n",
    "    print(\"\\nLematized Tweet : {}\".format(df['text_lematized'][i]))\n",
    "    print(\"\\nStemmed Tweet : {}\".format(df['text_stemmed'][i]))\n",
    "    print(\"\\nHashtags : {}\".format(extract_hashtags(df['text'][i])))"
   ]
  },
  {
   "cell_type": "code",
   "execution_count": 15,
   "metadata": {
    "colab": {
     "base_uri": "https://localhost:8080/"
    },
    "id": "CW0E_ypePuet",
    "outputId": "ee0959ff-a5c3-41b9-a24a-e94ece0eec0a"
   },
   "outputs": [
    {
     "name": "stdout",
     "output_type": "stream",
     "text": [
      "Tweet : RT @schreier: It makes you smarter.  Elevate is @apple app of the year!  Congratulations @jessepickard and team.  http://t.co/r0cgmthoCC\n",
      "\n",
      "Sentiment : positive\n",
      "\n",
      "Lematized Tweet : make smarter elevate app year congratulations team \n",
      "\n",
      "Stemmed Tweet : make smarter elev app year congratul team \n",
      "\n",
      "Hashtags : \n"
     ]
    }
   ],
   "source": [
    "random_tweet(df)"
   ]
  },
  {
   "cell_type": "markdown",
   "metadata": {},
   "source": [
    "# Comparision of techniques based on time taken"
   ]
  },
  {
   "cell_type": "code",
   "execution_count": 16,
   "metadata": {
    "colab": {
     "base_uri": "https://localhost:8080/",
     "height": 312
    },
    "id": "AImIDIC3dGCN",
    "outputId": "40089636-ccde-4ac6-8ffc-1e961ad10379"
   },
   "outputs": [
    {
     "data": {
      "text/plain": [
       "<BarContainer object of 2 artists>"
      ]
     },
     "execution_count": 16,
     "metadata": {},
     "output_type": "execute_result"
    },
    {
     "data": {
      "image/png": "[encoded data removed]",
      "text/plain": [
       "<Figure size 432x288 with 1 Axes>"
      ]
     },
     "metadata": {
      "needs_background": "light"
     },
     "output_type": "display_data"
    }
   ],
   "source": [
    "plt.title('Time taken for each method')\n",
    "plt.ylabel('Time')\n",
    "plt.xlabel('Techniques for preprocessing')\n",
    "plt.bar(['Lemmatization','Stemming'],time_taken,width=0.3,color='r')"
   ]
  },
  {
   "cell_type": "markdown",
   "metadata": {},
   "source": [
    "# Training Bayes and SVM models\n",
    "## Stemming takes less time hence technique 2 is used"
   ]
  },
  {
   "cell_type": "code",
   "execution_count": 17,
   "metadata": {
    "colab": {
     "base_uri": "https://localhost:8080/"
    },
    "id": "4jc8KyExhJkg",
    "outputId": "b73a4e1a-bd61-480d-a1d0-9a7f9c7e3941"
   },
   "outputs": [
    {
     "name": "stdout",
     "output_type": "stream",
     "text": [
      "Enter 0 for Stemming and 1 for Lemmatization : 0\n"
     ]
    }
   ],
   "source": [
    "train_percent = 0.90\n",
    "\n",
    "while True:\n",
    "    choice = int(input('Enter 0 for Stemming and 1 for Lemmatization : '))\n",
    "    if choice==0:\n",
    "        X = list(df['text_stemmed'])\n",
    "        break\n",
    "    elif choice==1:\n",
    "        X = list(df['text_lematized'])\n",
    "        break\n",
    "    else:\n",
    "        continue\n",
    "\n",
    "Y = list(df['sentiment'])\n",
    "X_train = X[:int(train_percent*len(X))]\n",
    "Y_train = Y[:int(train_percent*len(X))]\n",
    "X_test = X[int(train_percent*len(X)):]\n",
    "Y_test = Y[int(train_percent*len(X)):]"
   ]
  },
  {
   "cell_type": "code",
   "execution_count": 18,
   "metadata": {
    "id": "lLpYxXMX80hN"
   },
   "outputs": [],
   "source": [
    "def confusionMatrix(Y_test,Y_pred):\n",
    "    cm = confusion_matrix(Y_test, Y_pred,labels=[0,1,2],normalize='true')\n",
    "    disp = ConfusionMatrixDisplay(confusion_matrix=cm,display_labels=['negative','nuetral','positive'])\n",
    "    disp.plot(cmap='Blues',xticks_rotation='vertical')"
   ]
  },
  {
   "cell_type": "code",
   "execution_count": 19,
   "metadata": {
    "id": "x56KkOsMq43o"
   },
   "outputs": [],
   "source": [
    "model_bayes_text = make_pipeline(TfidfVectorizer(),MultinomialNB())\n",
    "\n",
    "model_bayes_text.fit(X_train,Y_train)\n",
    "\n",
    "Y_pred = model_bayes_text.predict(X_test)"
   ]
  },
  {
   "cell_type": "code",
   "execution_count": 20,
   "metadata": {
    "colab": {
     "base_uri": "https://localhost:8080/",
     "height": 313
    },
    "id": "CS3j_0ChsQlQ",
    "outputId": "f702e0a2-e901-4bbe-cf8a-9c19370b682b"
   },
   "outputs": [
    {
     "name": "stdout",
     "output_type": "stream",
     "text": [
      "Accuracy : 0.5984251968503937\n"
     ]
    },
    {
     "data": {
      "image/png": "[encoded data removed]",
      "text/plain": [
       "<Figure size 432x288 with 2 Axes>"
      ]
     },
     "metadata": {
      "needs_background": "light"
     },
     "output_type": "display_data"
    }
   ],
   "source": [
    "print(\"Accuracy : {}\".format(model_bayes_text.score(X_test,Y_test)))\n",
    "confusionMatrix(Y_test,Y_pred)"
   ]
  },
  {
   "cell_type": "code",
   "execution_count": 21,
   "metadata": {
    "id": "pSynJvjNLx1M"
   },
   "outputs": [],
   "source": [
    "def predict_sentiment(model,X,alpha=0.3):\n",
    "    Y_pred_text = model.predict_proba(X)\n",
    "    for i in range(len(X)):\n",
    "        hashtags_test = extract_hashtags(X[i]).strip()\n",
    "        if hashtags_test!='':\n",
    "            Y_pred_text[i] = (1-alpha)*Y_pred_text[i]+alpha*model.predict_proba(hashtags_test)\n",
    "        score = Y_pred_text[i][1]+2*Y_pred_text[i][2]\n",
    "    return np.argmax(Y_pred_text,axis=1) \n",
    "\n",
    "def accuracy(Y_test,Y_pred):\n",
    "    score = 0\n",
    "    for i in range(len(Y_test)):\n",
    "        if Y_test[i]==Y_pred[i]:\n",
    "            score+=1\n",
    "    return float(score)/len(Y_test)"
   ]
  },
  {
   "cell_type": "code",
   "execution_count": 22,
   "metadata": {
    "colab": {
     "base_uri": "https://localhost:8080/",
     "height": 313
    },
    "id": "EghLtUM9UxXX",
    "outputId": "7cb36694-296f-43be-8353-e307ae720387"
   },
   "outputs": [
    {
     "name": "stdout",
     "output_type": "stream",
     "text": [
      "Accuracy : 0.5984251968503937\n"
     ]
    },
    {
     "data": {
      "image/png": "[encoded data removed]",
      "text/plain": [
       "<Figure size 432x288 with 2 Axes>"
      ]
     },
     "metadata": {
      "needs_background": "light"
     },
     "output_type": "display_data"
    }
   ],
   "source": [
    "Y_pred = predict_sentiment(model_bayes_text,X_test)\n",
    "print(\"Accuracy : {}\".format(accuracy(Y_test,Y_pred)))\n",
    "confusionMatrix(Y_test,Y_pred)"
   ]
  },
  {
   "cell_type": "code",
   "execution_count": 22,
   "metadata": {
    "colab": {
     "base_uri": "https://localhost:8080/"
    },
    "id": "b-n_ToFSipLb",
    "outputId": "c96745da-c956-474a-a22a-999849fd36a6"
   },
   "outputs": [
    {
     "name": "stdout",
     "output_type": "stream",
     "text": [
      "Enter tweet : Good product #average\n"
     ]
    },
    {
     "data": {
      "text/plain": [
       "[1]"
      ]
     },
     "execution_count": 22,
     "metadata": {},
     "output_type": "execute_result"
    }
   ],
   "source": [
    "predict_sentiment(model_bayes_text,[technique2(input('Enter tweet : '))])"
   ]
  },
  {
   "cell_type": "code",
   "execution_count": 26,
   "metadata": {
    "id": "8R_dGyA3tbk5"
   },
   "outputs": [],
   "source": [
    "model_svm_text = make_pipeline(TfidfVectorizer(),SVC(probability=True))\n",
    "\n",
    "model_svm_text.fit(X_train,Y_train)\n",
    "\n",
    "Y_pred = model_svm_text.predict(X_test)"
   ]
  },
  {
   "cell_type": "code",
   "execution_count": 27,
   "metadata": {
    "colab": {
     "base_uri": "https://localhost:8080/",
     "height": 313
    },
    "id": "5KrW37SVuMvK",
    "outputId": "7d89b8f0-02af-45f0-b522-ee9427a0bb76"
   },
   "outputs": [
    {
     "name": "stdout",
     "output_type": "stream",
     "text": [
      "Accuracy : 0.5905511811023622\n"
     ]
    },
    {
     "data": {
      "image/png": "[encoded data removed]",
      "text/plain": [
       "<Figure size 432x288 with 2 Axes>"
      ]
     },
     "metadata": {
      "needs_background": "light"
     },
     "output_type": "display_data"
    }
   ],
   "source": [
    "print(\"Accuracy : {}\".format(model_svm_text.score(X_test,Y_test)))\n",
    "confusionMatrix(Y_test,Y_pred)"
   ]
  },
  {
   "cell_type": "code",
   "execution_count": 28,
   "metadata": {
    "colab": {
     "base_uri": "https://localhost:8080/"
    },
    "id": "9J9LJWvF7T5a",
    "outputId": "9e507206-e86c-49be-84da-d762e0326025"
   },
   "outputs": [
    {
     "name": "stdout",
     "output_type": "stream",
     "text": [
      "Accuracy : 0.5905511811023622\n"
     ]
    },
    {
     "data": {
      "image/png": "[encoded data removed]",
      "text/plain": [
       "<Figure size 432x288 with 2 Axes>"
      ]
     },
     "metadata": {
      "needs_background": "light"
     },
     "output_type": "display_data"
    }
   ],
   "source": [
    "Y_pred = predict_sentiment(model_svm_text,X_test)\n",
    "print(\"Accuracy : {}\".format(accuracy(Y_test,Y_pred)))\n",
    "confusionMatrix(Y_test,Y_pred)"
   ]
  },
  {
   "cell_type": "code",
   "execution_count": null,
   "metadata": {},
   "outputs": [],
   "source": []
  }
 ],
 "metadata": {
  "colab": {
   "collapsed_sections": [],
   "name": "Effective_Text_Data_Preprocessing_Twitter.ipynb",
   "provenance": []
  },
  "kernelspec": {
   "display_name": "Python 3",
   "language": "python",
   "name": "python3"
  },
  "language_info": {
   "codemirror_mode": {
    "name": "ipython",
    "version": 3
   },
   "file_extension": ".py",
   "mimetype": "text/x-python",
   "name": "python",
   "nbconvert_exporter": "python",
   "pygments_lexer": "ipython3",
   "version": "3.7.6"
  }
 },
 "nbformat": 4,
 "nbformat_minor": 1
}
